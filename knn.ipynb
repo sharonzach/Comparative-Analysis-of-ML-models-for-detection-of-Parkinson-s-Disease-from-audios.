{
 "cells": [
  {
   "cell_type": "code",
   "execution_count": 2,
   "id": "33c69dbb-659e-450c-821b-997f9c7649a8",
   "metadata": {},
   "outputs": [
    {
     "name": "stdout",
     "output_type": "stream",
     "text": [
      "Accuracy: 94.87%\n",
      "Classification Report:\n",
      "               precision    recall  f1-score   support\n",
      "\n",
      "           0       1.00      0.71      0.83         7\n",
      "           1       0.94      1.00      0.97        32\n",
      "\n",
      "    accuracy                           0.95        39\n",
      "   macro avg       0.97      0.86      0.90        39\n",
      "weighted avg       0.95      0.95      0.95        39\n",
      "\n",
      "Confusion Matrix:\n",
      " [[ 5  2]\n",
      " [ 0 32]]\n",
      "\n",
      "Predicted class for the new sample: [1]\n"
     ]
    }
   ],
   "source": [
    "import pandas as pd\n",
    "from sklearn.model_selection import train_test_split\n",
    "from sklearn.preprocessing import StandardScaler\n",
    "from sklearn.neighbors import KNeighborsClassifier\n",
    "from sklearn.metrics import classification_report, accuracy_score, confusion_matrix\n",
    "import joblib\n",
    "import numpy as np\n",
    "data = pd.read_csv('parkinsons.data')\n",
    "\n",
    "X = data.drop(columns=['name', 'status']) \n",
    "y = data['status'] \n",
    "\n",
    "X_train, X_test, y_train, y_test = train_test_split(X, y, test_size=0.2, random_state=42)\n",
    "scaler = StandardScaler()\n",
    "X_train = scaler.fit_transform(X_train)\n",
    "X_test = scaler.transform(X_test)\n",
    "\n",
    "model = KNeighborsClassifier(n_neighbors=5, n_jobs=1) \n",
    "model.fit(X_train, y_train)\n",
    "\n",
    "joblib.dump(model, 'knn_model.pkl')\n",
    "joblib.dump(scaler, 'scaler.pkl')\n",
    "\n",
    "y_pred = model.predict(X_test)\n",
    "\n",
    "accuracy = accuracy_score(y_test, y_pred) * 100\n",
    "print(f\"Accuracy: {accuracy:.2f}%\")\n",
    "\n",
    "print(\"Classification Report:\\n\", classification_report(y_test, y_pred))\n",
    "print(\"Confusion Matrix:\\n\", confusion_matrix(y_test, y_pred))\n",
    "\n",
    "new_data = np.array([[0.029, 0.047, -0.008, 0.019, 0.002, -0.015, 0.004, 0.021,\n",
    "                      0.047, -0.041, -0.006, 0.030, 0.029, -0.029, -0.036, 0.018,\n",
    "                      0.014, -0.013, 0.004, 0.004, 0.010, 0.011]])  # Ensure exactly 22 features\n",
    "new_data_df = pd.DataFrame(new_data, columns=X.columns)\n",
    "new_data_scaled = scaler.transform(new_data_df)\n",
    "prediction = model.predict(new_data_scaled)\n",
    "print(\"\\nPredicted class for the new sample:\", prediction)"
   ]
  },
  {
   "cell_type": "code",
   "execution_count": null,
   "id": "4e01a911-3ca0-48c9-992c-56c4a38ea07e",
   "metadata": {},
   "outputs": [],
   "source": []
  }
 ],
 "metadata": {
  "kernelspec": {
   "display_name": "Python 3 (ipykernel)",
   "language": "python",
   "name": "python3"
  },
  "language_info": {
   "codemirror_mode": {
    "name": "ipython",
    "version": 3
   },
   "file_extension": ".py",
   "mimetype": "text/x-python",
   "name": "python",
   "nbconvert_exporter": "python",
   "pygments_lexer": "ipython3",
   "version": "3.11.7"
  }
 },
 "nbformat": 4,
 "nbformat_minor": 5
}
